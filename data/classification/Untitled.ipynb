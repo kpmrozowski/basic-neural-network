{
 "cells": [
  {
   "cell_type": "code",
   "execution_count": 1,
   "metadata": {},
   "outputs": [],
   "source": [
    "import pandas as pd"
   ]
  },
  {
   "cell_type": "code",
   "execution_count": 2,
   "metadata": {},
   "outputs": [],
   "source": [
    "file = pd.read_csv(\"data.simple.test.100.csv\")"
   ]
  },
  {
   "cell_type": "code",
   "execution_count": 5,
   "metadata": {},
   "outputs": [
    {
     "name": "stdout",
     "output_type": "stream",
     "text": [
      "0    -0.002925\n",
      "1     0.504571\n",
      "2     0.894132\n",
      "3     0.220207\n",
      "4     0.267815\n",
      "5    -0.273407\n",
      "6    -0.287346\n",
      "7     0.467718\n",
      "8     0.993103\n",
      "9    -0.495193\n",
      "10    0.339856\n",
      "11    0.809862\n",
      "12   -0.658732\n",
      "13   -0.275132\n",
      "14    0.532720\n",
      "15    0.506470\n",
      "16    0.662090\n",
      "17    0.304907\n",
      "18    0.466663\n",
      "19    0.831284\n",
      "20    0.316172\n",
      "21    0.831021\n",
      "22   -0.712927\n",
      "23    0.602966\n",
      "24    0.464486\n",
      "25    0.283059\n",
      "26    0.753615\n",
      "27   -0.372424\n",
      "28    0.554037\n",
      "29   -0.972686\n",
      "        ...   \n",
      "70    0.249260\n",
      "71   -0.824358\n",
      "72    0.699316\n",
      "73    0.964830\n",
      "74    0.054669\n",
      "75   -0.609739\n",
      "76   -0.875539\n",
      "77    0.274969\n",
      "78    0.350067\n",
      "79    0.511629\n",
      "80    0.551387\n",
      "81   -0.195539\n",
      "82   -0.335598\n",
      "83    0.810085\n",
      "84   -0.467032\n",
      "85   -0.534182\n",
      "86   -0.994815\n",
      "87   -0.491516\n",
      "88   -0.240188\n",
      "89    0.674156\n",
      "90   -0.744926\n",
      "91   -0.344637\n",
      "92    0.756379\n",
      "93   -0.020816\n",
      "94    0.276071\n",
      "95   -0.614917\n",
      "96   -0.103648\n",
      "97   -0.338380\n",
      "98   -0.526780\n",
      "99   -0.821894\n",
      "Name: x, Length: 100, dtype: float64\n"
     ]
    }
   ],
   "source": [
    "print(file.x)"
   ]
  }
 ],
 "metadata": {
  "kernelspec": {
   "display_name": "Python 3",
   "language": "python",
   "name": "python3"
  },
  "language_info": {
   "codemirror_mode": {
    "name": "ipython",
    "version": 3
   },
   "file_extension": ".py",
   "mimetype": "text/x-python",
   "name": "python",
   "nbconvert_exporter": "python",
   "pygments_lexer": "ipython3",
   "version": "3.7.4"
  }
 },
 "nbformat": 4,
 "nbformat_minor": 2
}
